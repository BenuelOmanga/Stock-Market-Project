{
 "cells": [
  {
   "cell_type": "code",
   "execution_count": 1,
   "id": "09ede03b",
   "metadata": {},
   "outputs": [
    {
     "name": "stdout",
     "output_type": "stream",
     "text": [
      "Historical data loaded to SQLite and last_date.txt updated.\n"
     ]
    }
   ],
   "source": [
    "import pandas as pd\n",
    "import sqlite3\n",
    "\n",
    "df = pd.read_csv(r\"D:\\EU School\\Academics\\3rd Semester\\Business Intelligence\\Final Assessment\\Stock-Market-Project\\airflow-docker\\dags\\data\\all_stocks_cleaned.csv\", parse_dates=[\"Date\"])\n",
    "\n",
    "historical = df[df[\"Date\"].dt.year < 2024]\n",
    "\n",
    "db_path = r\"D:\\EU School\\Academics\\3rd Semester\\Business Intelligence\\Final Assessment\\Stock-Market-Project\\airflow-docker\\dags\\data\\processed_data.db\"\n",
    "\n",
    "with sqlite3.connect(db_path) as conn:\n",
    "    historical.to_sql(\"processed_data\", conn, if_exists=\"replace\", index=False)\n",
    "\n",
    "with open(r\"D:\\EU School\\Academics\\3rd Semester\\Business Intelligence\\Final Assessment\\Stock-Market-Project\\airflow-docker\\dags\\data\\last_date.txt\", \"w\") as f:\n",
    "    f.write(\"2023-12-31\")\n",
    "\n",
    "print(\"Historical data loaded to SQLite and last_date.txt updated.\")\n"
   ]
  },
  {
   "cell_type": "code",
   "execution_count": 2,
   "id": "c4576716",
   "metadata": {},
   "outputs": [
    {
     "name": "stdout",
     "output_type": "stream",
     "text": [
      "                  Date        Open        High         Low       Close  \\\n",
      "0  2023-12-29 00:00:00  191.130325  192.986726  190.336138  192.490361   \n",
      "1  2023-12-29 00:00:00  371.819366  372.926791  369.288102  371.779807   \n",
      "2  2023-12-29 00:00:00  151.940002  153.889999  151.029999  153.100006   \n",
      "3  2023-12-29 00:00:00  139.025330  139.692140  138.119656  138.965618   \n",
      "4  2023-12-29 00:00:00  352.299591  358.311266  350.169645  357.305994   \n",
      "\n",
      "     Volume  % Change      SMA_30     SMA_200        RSI  Volume_MA_20  \\\n",
      "0  42628800 -0.123627  191.534697  177.608707  49.006710    53138740.0   \n",
      "1  18723000  0.167832  369.314470  325.110529  59.976466    26100185.0   \n",
      "2  39789000 -0.403328  148.049667  127.629350  74.329553    46556430.0   \n",
      "3  18727200 -0.816877  134.942516  124.107499  65.382467    30995150.0   \n",
      "4  14980500 -0.197403  335.143134  284.401813  84.532411    16640690.0   \n",
      "\n",
      "   Volatility_30 Ticker  \n",
      "0       0.698914   AAPL  \n",
      "1       0.949267   MSFT  \n",
      "2       1.399661   AMZN  \n",
      "3       1.373871  GOOGL  \n",
      "4       1.461201   META  \n"
     ]
    }
   ],
   "source": [
    "import sqlite3\n",
    "import pandas as pd\n",
    "\n",
    "# Connect to the SQLite DB\n",
    "conn = sqlite3.connect(r\"D:\\EU School\\Academics\\3rd Semester\\Business Intelligence\\Final Assessment\\Stock-Market-Project\\airflow-docker\\dags\\data\\processed_data.db\")\n",
    "\n",
    "# Read the latest rows\n",
    "df = pd.read_sql_query(\"SELECT * FROM processed_data ORDER BY Date DESC LIMIT 5\", conn)\n",
    "conn.close()\n",
    "\n",
    "print(df)\n"
   ]
  },
  {
   "cell_type": "code",
   "execution_count": null,
   "id": "3a21c468",
   "metadata": {},
   "outputs": [],
   "source": []
  }
 ],
 "metadata": {
  "kernelspec": {
   "display_name": "Python 3",
   "language": "python",
   "name": "python3"
  },
  "language_info": {
   "codemirror_mode": {
    "name": "ipython",
    "version": 3
   },
   "file_extension": ".py",
   "mimetype": "text/x-python",
   "name": "python",
   "nbconvert_exporter": "python",
   "pygments_lexer": "ipython3",
   "version": "3.13.2"
  }
 },
 "nbformat": 4,
 "nbformat_minor": 5
}

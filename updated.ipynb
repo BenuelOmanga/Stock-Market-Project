{
 "cells": [
  {
   "cell_type": "code",
   "execution_count": 1,
   "id": "7e7142b5",
   "metadata": {},
   "outputs": [
    {
     "name": "stdout",
     "output_type": "stream",
     "text": [
      "✅ airflow.cfg updated successfully\n"
     ]
    }
   ],
   "source": [
    "import configparser\n",
    "\n",
    "cfg_path = \"D:/airflow_home/airflow.cfg\"  # ✅ Corrected path\n",
    "\n",
    "# Load the config\n",
    "config = configparser.ConfigParser()\n",
    "config.read(cfg_path)\n",
    "\n",
    "# Modify the SQLAlchemy connection string\n",
    "config.set(\"database\", \"sql_alchemy_conn\", \"sqlite:////D:/airflow_home/airflow.db\")\n",
    "\n",
    "# Save the updated config\n",
    "with open(cfg_path, \"w\") as configfile:\n",
    "    config.write(configfile)\n",
    "\n",
    "print(\"✅ airflow.cfg updated successfully\")\n"
   ]
  },
  {
   "cell_type": "code",
   "execution_count": 2,
   "id": "c09dd8b6",
   "metadata": {},
   "outputs": [
    {
     "name": "stdout",
     "output_type": "stream",
     "text": [
      "✅ Current setting: sql_alchemy_conn = sqlite:////D:/airflow_home/airflow.db\n"
     ]
    }
   ],
   "source": [
    "with open(cfg_path, \"r\") as file:\n",
    "    for line in file:\n",
    "        if \"sql_alchemy_conn\" in line and not line.strip().startswith(\"#\"):\n",
    "            print(\"✅ Current setting:\", line.strip())\n"
   ]
  },
  {
   "cell_type": "code",
   "execution_count": 3,
   "id": "9ba4f6a1",
   "metadata": {},
   "outputs": [
    {
     "name": "stdout",
     "output_type": "stream",
     "text": [
      "✅ airflow.cfg correctly updated\n"
     ]
    }
   ],
   "source": [
    "config.set(\"database\", \"sql_alchemy_conn\", \"sqlite:////d:/airflow_home/airflow.db\")\n",
    "with open(cfg_path, \"w\") as configfile:\n",
    "    config.write(configfile)\n",
    "print(\"✅ airflow.cfg correctly updated\")\n"
   ]
  },
  {
   "cell_type": "code",
   "execution_count": null,
   "id": "65c6d054",
   "metadata": {},
   "outputs": [],
   "source": []
  }
 ],
 "metadata": {
  "kernelspec": {
   "display_name": "airflow_env",
   "language": "python",
   "name": "python3"
  },
  "language_info": {
   "codemirror_mode": {
    "name": "ipython",
    "version": 3
   },
   "file_extension": ".py",
   "mimetype": "text/x-python",
   "name": "python",
   "nbconvert_exporter": "python",
   "pygments_lexer": "ipython3",
   "version": "3.10.0"
  }
 },
 "nbformat": 4,
 "nbformat_minor": 5
}

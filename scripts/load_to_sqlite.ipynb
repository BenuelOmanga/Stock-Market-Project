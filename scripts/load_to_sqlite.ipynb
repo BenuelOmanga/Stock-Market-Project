{
 "cells": [
  {
   "cell_type": "code",
   "execution_count": 1,
   "id": "e008d392",
   "metadata": {},
   "outputs": [
    {
     "name": "stdout",
     "output_type": "stream",
     "text": [
      "Connected to SQLite database.\n"
     ]
    }
   ],
   "source": [
    "import sqlite3\n",
    "\n",
    "db_path = r\"D:\\EU School\\Academics\\3rd Semester\\Business Intelligence\\Final Assessment\\Stock-Market-Project\\database\\stock_data.db\"\n",
    "conn = sqlite3.connect(db_path)\n",
    "\n",
    "print(\"Connected to SQLite database.\")"
   ]
  },
  {
   "cell_type": "markdown",
   "id": "d492812e",
   "metadata": {},
   "source": [
    "## Loading data into SQLite\n",
    "\n",
    "### We first start with AAPL_cleaned.csv"
   ]
  },
  {
   "cell_type": "code",
   "execution_count": 2,
   "id": "b052650b",
   "metadata": {},
   "outputs": [
    {
     "name": "stdout",
     "output_type": "stream",
     "text": [
      "AAPL data loaded into SQLite table: aapl\n"
     ]
    }
   ],
   "source": [
    "import pandas as pd\n",
    "\n",
    "aapl_path = r\"D:\\EU School\\Academics\\3rd Semester\\Business Intelligence\\Final Assessment\\Stock-Market-Project\\data\\processed\\AAPL_cleaned.csv\"\n",
    "aapl_data = pd.read_csv(aapl_path)\n",
    "\n",
    "aapl_data.to_sql('aapl', conn, if_exists='replace', index=False)\n",
    "\n",
    "print(\"AAPL data loaded into SQLite table: aapl\")\n"
   ]
  },
  {
   "cell_type": "markdown",
   "id": "6aacbe7b",
   "metadata": {},
   "source": [
    "### We now load the remaining data file from other tickers"
   ]
  },
  {
   "cell_type": "code",
   "execution_count": 3,
   "id": "fff8cfb9",
   "metadata": {},
   "outputs": [
    {
     "name": "stdout",
     "output_type": "stream",
     "text": [
      "All remaining stock tables loaded into SQLite.\n"
     ]
    }
   ],
   "source": [
    "msft = pd.read_csv(r\"D:\\EU School\\Academics\\3rd Semester\\Business Intelligence\\Final Assessment\\Stock-Market-Project\\data\\processed\\MSFT_cleaned.csv\")\n",
    "msft.to_sql('msft', conn, if_exists='replace', index=False)\n",
    "\n",
    "amzn = pd.read_csv(r\"D:\\EU School\\Academics\\3rd Semester\\Business Intelligence\\Final Assessment\\Stock-Market-Project\\data\\processed\\AMZN_cleaned.csv\")\n",
    "amzn.to_sql('amzn', conn, if_exists='replace', index=False)\n",
    "\n",
    "googl = pd.read_csv(r\"D:\\EU School\\Academics\\3rd Semester\\Business Intelligence\\Final Assessment\\Stock-Market-Project\\data\\processed\\GOOGL_cleaned.csv\")\n",
    "googl.to_sql('googl', conn, if_exists='replace', index=False)\n",
    "\n",
    "meta = pd.read_csv(r\"D:\\EU School\\Academics\\3rd Semester\\Business Intelligence\\Final Assessment\\Stock-Market-Project\\data\\processed\\META_cleaned.csv\")\n",
    "meta.to_sql('meta', conn, if_exists='replace', index=False)\n",
    "\n",
    "print(\"All remaining stock tables loaded into SQLite.\")\n"
   ]
  },
  {
   "cell_type": "markdown",
   "id": "cfa21b56",
   "metadata": {},
   "source": [
    "# MERGE CLEANED DATASETS INTO ONE TABLE"
   ]
  },
  {
   "cell_type": "code",
   "execution_count": null,
   "id": "f66de263",
   "metadata": {},
   "outputs": [
    {
     "data": {
      "text/html": [
       "<div>\n",
       "<style scoped>\n",
       "    .dataframe tbody tr th:only-of-type {\n",
       "        vertical-align: middle;\n",
       "    }\n",
       "\n",
       "    .dataframe tbody tr th {\n",
       "        vertical-align: top;\n",
       "    }\n",
       "\n",
       "    .dataframe thead th {\n",
       "        text-align: right;\n",
       "    }\n",
       "</style>\n",
       "<table border=\"1\" class=\"dataframe\">\n",
       "  <thead>\n",
       "    <tr style=\"text-align: right;\">\n",
       "      <th></th>\n",
       "      <th>Date</th>\n",
       "      <th>Open</th>\n",
       "      <th>High</th>\n",
       "      <th>Low</th>\n",
       "      <th>Close</th>\n",
       "      <th>Volume</th>\n",
       "      <th>% Change</th>\n",
       "      <th>SMA_30</th>\n",
       "      <th>SMA_200</th>\n",
       "      <th>RSI</th>\n",
       "      <th>Volume_MA_20</th>\n",
       "      <th>Volatility_30</th>\n",
       "      <th>Ticker</th>\n",
       "    </tr>\n",
       "  </thead>\n",
       "  <tbody>\n",
       "    <tr>\n",
       "      <th>0</th>\n",
       "      <td>2020-01-02</td>\n",
       "      <td>72.620850</td>\n",
       "      <td>72.681296</td>\n",
       "      <td>71.373226</td>\n",
       "      <td>71.627100</td>\n",
       "      <td>135480400</td>\n",
       "      <td>NaN</td>\n",
       "      <td>NaN</td>\n",
       "      <td>NaN</td>\n",
       "      <td>NaN</td>\n",
       "      <td>NaN</td>\n",
       "      <td>NaN</td>\n",
       "      <td>AAPL</td>\n",
       "    </tr>\n",
       "    <tr>\n",
       "      <th>1</th>\n",
       "      <td>2020-01-03</td>\n",
       "      <td>71.914818</td>\n",
       "      <td>72.676447</td>\n",
       "      <td>71.689957</td>\n",
       "      <td>71.847118</td>\n",
       "      <td>146322800</td>\n",
       "      <td>0.307172</td>\n",
       "      <td>NaN</td>\n",
       "      <td>NaN</td>\n",
       "      <td>NaN</td>\n",
       "      <td>NaN</td>\n",
       "      <td>NaN</td>\n",
       "      <td>AAPL</td>\n",
       "    </tr>\n",
       "    <tr>\n",
       "      <th>2</th>\n",
       "      <td>2020-01-06</td>\n",
       "      <td>72.487839</td>\n",
       "      <td>72.526526</td>\n",
       "      <td>70.783241</td>\n",
       "      <td>71.034702</td>\n",
       "      <td>118387200</td>\n",
       "      <td>-1.130756</td>\n",
       "      <td>NaN</td>\n",
       "      <td>NaN</td>\n",
       "      <td>NaN</td>\n",
       "      <td>NaN</td>\n",
       "      <td>NaN</td>\n",
       "      <td>AAPL</td>\n",
       "    </tr>\n",
       "    <tr>\n",
       "      <th>3</th>\n",
       "      <td>2020-01-07</td>\n",
       "      <td>72.146942</td>\n",
       "      <td>72.753823</td>\n",
       "      <td>71.926915</td>\n",
       "      <td>72.497529</td>\n",
       "      <td>108872000</td>\n",
       "      <td>2.059314</td>\n",
       "      <td>NaN</td>\n",
       "      <td>NaN</td>\n",
       "      <td>NaN</td>\n",
       "      <td>NaN</td>\n",
       "      <td>NaN</td>\n",
       "      <td>AAPL</td>\n",
       "    </tr>\n",
       "    <tr>\n",
       "      <th>4</th>\n",
       "      <td>2020-01-08</td>\n",
       "      <td>73.307510</td>\n",
       "      <td>73.609745</td>\n",
       "      <td>71.849533</td>\n",
       "      <td>71.849533</td>\n",
       "      <td>132079200</td>\n",
       "      <td>-0.893819</td>\n",
       "      <td>NaN</td>\n",
       "      <td>NaN</td>\n",
       "      <td>NaN</td>\n",
       "      <td>NaN</td>\n",
       "      <td>NaN</td>\n",
       "      <td>AAPL</td>\n",
       "    </tr>\n",
       "  </tbody>\n",
       "</table>\n",
       "</div>"
      ],
      "text/plain": [
       "         Date       Open       High        Low      Close     Volume  \\\n",
       "0  2020-01-02  72.620850  72.681296  71.373226  71.627100  135480400   \n",
       "1  2020-01-03  71.914818  72.676447  71.689957  71.847118  146322800   \n",
       "2  2020-01-06  72.487839  72.526526  70.783241  71.034702  118387200   \n",
       "3  2020-01-07  72.146942  72.753823  71.926915  72.497529  108872000   \n",
       "4  2020-01-08  73.307510  73.609745  71.849533  71.849533  132079200   \n",
       "\n",
       "   % Change  SMA_30  SMA_200  RSI  Volume_MA_20  Volatility_30 Ticker  \n",
       "0       NaN     NaN      NaN  NaN           NaN            NaN   AAPL  \n",
       "1  0.307172     NaN      NaN  NaN           NaN            NaN   AAPL  \n",
       "2 -1.130756     NaN      NaN  NaN           NaN            NaN   AAPL  \n",
       "3  2.059314     NaN      NaN  NaN           NaN            NaN   AAPL  \n",
       "4 -0.893819     NaN      NaN  NaN           NaN            NaN   AAPL  "
      ]
     },
     "execution_count": 1,
     "metadata": {},
     "output_type": "execute_result"
    }
   ],
   "source": [
    "import pandas as pd\n",
    "\n",
    "aapl = pd.read_csv(r\"D:\\EU School\\Academics\\3rd Semester\\Business Intelligence\\Final Assessment\\Stock-Market-Project\\data\\processed\\AAPL_cleaned.csv\")\n",
    "aapl['Ticker'] = 'AAPL'\n",
    "\n",
    "msft = pd.read_csv(r\"D:\\EU School\\Academics\\3rd Semester\\Business Intelligence\\Final Assessment\\Stock-Market-Project\\data\\processed\\MSFT_cleaned.csv\")\n",
    "msft['Ticker'] = 'MSFT'\n",
    "\n",
    "amzn = pd.read_csv(r\"D:\\EU School\\Academics\\3rd Semester\\Business Intelligence\\Final Assessment\\Stock-Market-Project\\data\\processed\\AMZN_cleaned.csv\")\n",
    "amzn['Ticker'] = 'AMZN'\n",
    "\n",
    "googl = pd.read_csv(r\"D:\\EU School\\Academics\\3rd Semester\\Business Intelligence\\Final Assessment\\Stock-Market-Project\\data\\processed\\GOOGL_cleaned.csv\")\n",
    "googl['Ticker'] = 'GOOGL'\n",
    "\n",
    "meta = pd.read_csv(r\"D:\\EU School\\Academics\\3rd Semester\\Business Intelligence\\Final Assessment\\Stock-Market-Project\\data\\processed\\META_cleaned.csv\")\n",
    "meta['Ticker'] = 'META'\n",
    "\n",
    "all_stocks = pd.concat([aapl, msft, amzn, googl, meta], ignore_index=True)\n",
    "\n",
    "all_stocks.head()\n"
   ]
  },
  {
   "cell_type": "code",
   "execution_count": 4,
   "id": "c015d940",
   "metadata": {},
   "outputs": [
    {
     "name": "stdout",
     "output_type": "stream",
     "text": [
      "Merged CSV saved at: D:\\EU School\\Academics\\3rd Semester\\Business Intelligence\\Final Assessment\\Stock-Market-Project\\data\\processed\\all_stocks_cleaned.csv\n"
     ]
    }
   ],
   "source": [
    "output_path = r\"D:\\EU School\\Academics\\3rd Semester\\Business Intelligence\\Final Assessment\\Stock-Market-Project\\data\\processed\\all_stocks_cleaned.csv\"\n",
    "\n",
    "all_stocks.to_csv(output_path, index=False)\n",
    "\n",
    "print(\"Merged CSV saved at:\", output_path)\n"
   ]
  },
  {
   "cell_type": "code",
   "execution_count": 6,
   "id": "a1f8518f",
   "metadata": {},
   "outputs": [
    {
     "name": "stdout",
     "output_type": "stream",
     "text": [
      "Unified 'stocks' table inserted into SQLite.\n"
     ]
    }
   ],
   "source": [
    "import sqlite3\n",
    "\n",
    "conn = sqlite3.connect(r\"D:\\EU School\\Academics\\3rd Semester\\Business Intelligence\\Final Assessment\\Stock-Market-Project\\database\\stock_data.db\")\n",
    "\n",
    "all_stocks.to_sql('stocks', conn, if_exists='replace', index=False)\n",
    "\n",
    "print(\"Unified 'stocks' table inserted into SQLite.\")\n"
   ]
  },
  {
   "cell_type": "code",
   "execution_count": null,
   "id": "389e71aa",
   "metadata": {},
   "outputs": [],
   "source": []
  },
  {
   "cell_type": "code",
   "execution_count": null,
   "id": "4061689f",
   "metadata": {},
   "outputs": [],
   "source": []
  }
 ],
 "metadata": {
  "kernelspec": {
   "display_name": "Python 3",
   "language": "python",
   "name": "python3"
  },
  "language_info": {
   "codemirror_mode": {
    "name": "ipython",
    "version": 3
   },
   "file_extension": ".py",
   "mimetype": "text/x-python",
   "name": "python",
   "nbconvert_exporter": "python",
   "pygments_lexer": "ipython3",
   "version": "3.13.2"
  }
 },
 "nbformat": 4,
 "nbformat_minor": 5
}

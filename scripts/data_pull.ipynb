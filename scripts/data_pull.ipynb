{
 "cells": [
  {
   "cell_type": "code",
   "execution_count": 1,
   "id": "be5f6d1b",
   "metadata": {},
   "outputs": [],
   "source": [
    "import yfinance as yf\n",
    "import os"
   ]
  },
  {
   "cell_type": "code",
   "execution_count": 2,
   "id": "c1449aa0",
   "metadata": {},
   "outputs": [],
   "source": [
    "companies = ['AAPL', 'MSFT', 'AMZN', 'GOOGL', 'META']\n",
    "\n",
    "start_date = \"2020-01-01\"\n",
    "end_date = \"2024-12-31\""
   ]
  },
  {
   "cell_type": "code",
   "execution_count": 3,
   "id": "3257b4cb",
   "metadata": {},
   "outputs": [],
   "source": [
    "output_dir = r\"D:\\EU School\\Academics\\3rd Semester\\Business Intelligence\\Final Assessment\\Stock-Market-Project\\data\\raw\"\n",
    "\n",
    "os.makedirs(output_dir, exist_ok=True)\n"
   ]
  },
  {
   "cell_type": "code",
   "execution_count": 4,
   "id": "88704bc0",
   "metadata": {},
   "outputs": [
    {
     "name": "stdout",
     "output_type": "stream",
     "text": [
      "Downloading data for AAPL...\n",
      "YF.download() has changed argument auto_adjust default to True\n"
     ]
    },
    {
     "name": "stderr",
     "output_type": "stream",
     "text": [
      "[*********************100%***********************]  1 of 1 completed\n"
     ]
    },
    {
     "name": "stdout",
     "output_type": "stream",
     "text": [
      "Saved: D:\\EU School\\Academics\\3rd Semester\\Business Intelligence\\Final Assessment\\Stock-Market-Project\\data\\raw\\AAPL.csv\n",
      "Downloading data for MSFT...\n"
     ]
    },
    {
     "name": "stderr",
     "output_type": "stream",
     "text": [
      "[*********************100%***********************]  1 of 1 completed\n"
     ]
    },
    {
     "name": "stdout",
     "output_type": "stream",
     "text": [
      "Saved: D:\\EU School\\Academics\\3rd Semester\\Business Intelligence\\Final Assessment\\Stock-Market-Project\\data\\raw\\MSFT.csv\n",
      "Downloading data for AMZN...\n"
     ]
    },
    {
     "name": "stderr",
     "output_type": "stream",
     "text": [
      "[*********************100%***********************]  1 of 1 completed\n"
     ]
    },
    {
     "name": "stdout",
     "output_type": "stream",
     "text": [
      "Saved: D:\\EU School\\Academics\\3rd Semester\\Business Intelligence\\Final Assessment\\Stock-Market-Project\\data\\raw\\AMZN.csv\n",
      "Downloading data for GOOGL...\n"
     ]
    },
    {
     "name": "stderr",
     "output_type": "stream",
     "text": [
      "[*********************100%***********************]  1 of 1 completed\n"
     ]
    },
    {
     "name": "stdout",
     "output_type": "stream",
     "text": [
      "Saved: D:\\EU School\\Academics\\3rd Semester\\Business Intelligence\\Final Assessment\\Stock-Market-Project\\data\\raw\\GOOGL.csv\n",
      "Downloading data for META...\n"
     ]
    },
    {
     "name": "stderr",
     "output_type": "stream",
     "text": [
      "[*********************100%***********************]  1 of 1 completed"
     ]
    },
    {
     "name": "stdout",
     "output_type": "stream",
     "text": [
      "Saved: D:\\EU School\\Academics\\3rd Semester\\Business Intelligence\\Final Assessment\\Stock-Market-Project\\data\\raw\\META.csv\n"
     ]
    },
    {
     "name": "stderr",
     "output_type": "stream",
     "text": [
      "\n"
     ]
    }
   ],
   "source": [
    "# Download and save stock data\n",
    "for company in companies:\n",
    "    print(f\"Downloading data for {company}...\")\n",
    "    stock_data = yf.download(company, start=start_date, end=end_date)\n",
    "    \n",
    "    if not stock_data.empty:\n",
    "        output_path = os.path.join(output_dir, f\"{company}.csv\")\n",
    "        stock_data.to_csv(output_path)\n",
    "        print(f\"Saved: {output_path}\")\n",
    "    else:\n",
    "        print(f\"Failed to fetch data for {company}.\")"
   ]
  },
  {
   "cell_type": "code",
   "execution_count": null,
   "id": "aeb13391",
   "metadata": {},
   "outputs": [],
   "source": []
  }
 ],
 "metadata": {
  "kernelspec": {
   "display_name": "Python 3",
   "language": "python",
   "name": "python3"
  },
  "language_info": {
   "codemirror_mode": {
    "name": "ipython",
    "version": 3
   },
   "file_extension": ".py",
   "mimetype": "text/x-python",
   "name": "python",
   "nbconvert_exporter": "python",
   "pygments_lexer": "ipython3",
   "version": "3.13.2"
  }
 },
 "nbformat": 4,
 "nbformat_minor": 5
}
